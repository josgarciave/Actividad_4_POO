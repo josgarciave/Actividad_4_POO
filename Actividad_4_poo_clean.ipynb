{
 "nbformat": 4,
 "nbformat_minor": 0,
 "metadata": {
  "colab": {
   "provenance": []
  },
  "kernelspec": {
   "name": "python3",
   "display_name": "Python 3"
  },
  "language_info": {
   "name": "python"
  }
 },
 "cells": [
  {
   "cell_type": "markdown",
   "source": [
    "# Ejercicio 1"
   ],
   "metadata": {
    "id": "JLWgDx7vNOqC"
   }
  },
  {
   "cell_type": "code",
   "source": [
    "import statistics\n",
    "import ipywidgets as widgets\n",
    "from IPython.display import display, clear_output\n",
    "\n",
    "inputs = [widgets.FloatText(description=f'Nota {i+1}:', value=0.0) for i in range(5)]\n",
    "btn_calcular = widgets.Button(description=\"Calcular\")\n",
    "btn_limpiar = widgets.Button(description=\"Limpiar\")\n",
    "salida = widgets.Output()\n",
    "\n",
    "def calcular_datos(_):\n",
    "    with salida:\n",
    "        clear_output()\n",
    "        try:\n",
    "            notas = [w.value for w in inputs]\n",
    "            promedio = statistics.mean(notas)\n",
    "            desviacion = statistics.pstdev(notas)\n",
    "            mayor = max(notas)\n",
    "            menor = min(notas)\n",
    "\n",
    "            print(f\"Promedio = {promedio:.2f}\")\n",
    "            print(f\"Desviacion est\u00e1ndar = {desviacion:.2f}\")\n",
    "            print(f\"Valor mayor = {mayor:.1f}\")\n",
    "            print(f\"Valor menor = {menor:.1f}\")\n",
    "        except Exception as e:\n",
    "            print(\"Error:\", e)\n",
    "\n",
    "def limpiar_datos(_):\n",
    "    for w in inputs:\n",
    "        w.value = 0.0\n",
    "    with salida:\n",
    "        clear_output()\n",
    "\n",
    "btn_calcular.on_click(calcular_datos)\n",
    "btn_limpiar.on_click(limpiar_datos)\n",
    "\n",
    "botones = widgets.HBox([btn_calcular, btn_limpiar])\n",
    "display(widgets.VBox(inputs + [botones, salida]))\n"
   ],
   "metadata": {
    "colab": {
     "base_uri": "https://localhost:8080/",
     "height": 282,
     "referenced_widgets": [
      "90ad0bc8b367423fa33c050e4d3a253e",
      "ee6868520f504683b538d8a815b14ebb",
      "0c07390edbea420fb0752060803c2dc2",
      "f2e4041c1c424d908cb5dbe84b854ad9",
      "48f8259d235c4cbc94a8d79f3b961e5e",
      "f848b8dcce4b4671b17ce99756305bcd",
      "e04c791ec07443dd9747473b561162a5",
      "790c88ab9b6d4bb9817a5d1ec97a58b4",
      "b931b979dea14624b2d43a9aae29f1ca",
      "87b95eb9fb8e4021aee2797eb8651273",
      "c7bc47623fec40c7b6240dbde39cda33",
      "0b70b9d7606341f8a4f6a7f2b77c2e9a",
      "6fbd812ba1194b29bf4c010df79139ef",
      "e8465defaa6f47baa60694d1af7a16a0",
      "9aa95128555d49f19e6757d3bcb75a3a",
      "8248b578dea7448992ac88642a6dfaa0",
      "857e94f0381d424c9a779c8bfae6fe89",
      "1b3f0b670f504b3cbbd295363aa9ee6a",
      "73fe2e2097014137982021e57e094589",
      "3ef7c219599d49438c1a1a14e59f2db9",
      "7e7fb39a14964ff89a2fd8f3bd665e38",
      "e2003a9534834f3ab4c318183dab2e49",
      "1f4ac2afcabf4c5dbc6f327272bcb44c",
      "2cb5a53942014aa0b5dff6a4476c2ade",
      "57478040fa4046bfacfdd89f71776a62",
      "960c475acb154df0995de9e5bd3d420e",
      "abaac9f48e53442dbd39d2c2e2db74c3"
     ]
    },
    "id": "ut71mbQpPSMC",
    "outputId": "bcdf5131-548e-47e2-ecf5-4d6b35265796"
   },
   "execution_count": 2,
   "outputs": [
    {
     "output_type": "display_data",
     "data": {
      "text/plain": [
       "VBox(children=(FloatText(value=0.0, description='Nota 1:'), FloatText(value=0.0, description='Nota 2:'), Float\u2026"
      ],
      "application/vnd.jupyter.widget-view+json": {
       "version_major": 2,
       "version_minor": 0,
       "model_id": "90ad0bc8b367423fa33c050e4d3a253e"
      }
     },
     "metadata": {}
    }
   ]
  },
  {
   "cell_type": "markdown",
   "source": [
    "# Ejercicio 2"
   ],
   "metadata": {
    "id": "pq31ghqCUTG3"
   }
  },
  {
   "cell_type": "code",
   "source": [
    "import math\n",
    "import ipywidgets as widgets\n",
    "from IPython.display import display, clear_output\n",
    "\n",
    "class Figura:\n",
    "    def volumen(self): pass\n",
    "    def superficie(self): pass\n",
    "\n",
    "class Cilindro(Figura):\n",
    "    def __init__(self, r, h):\n",
    "        self.r = r\n",
    "        self.h = h\n",
    "\n",
    "    def volumen(self):\n",
    "        return math.pi * self.r**2 * self.h\n",
    "\n",
    "    def superficie(self):\n",
    "        return 2 * math.pi * self.r * (self.r + self.h)\n",
    "\n",
    "class Esfera(Figura):\n",
    "    def __init__(self, r):\n",
    "        self.r = r\n",
    "\n",
    "    def volumen(self):\n",
    "        return (4/3) * math.pi * self.r**3\n",
    "\n",
    "    def superficie(self):\n",
    "        return 4 * math.pi * self.r**2\n",
    "\n",
    "class Piramide(Figura):\n",
    "    def __init__(self, b, h, a):\n",
    "        self.b = b\n",
    "        self.h = h\n",
    "        self.a = a\n",
    "\n",
    "    def volumen(self):\n",
    "        return (1/3) * self.b**2 * self.h\n",
    "\n",
    "    def superficie(self):\n",
    "        return self.b**2 + 2 * self.b * self.a\n",
    "\n",
    "class CalculadoraVolumenes:\n",
    "    def __init__(self):\n",
    "        self.tab_principal = self.crear_tab_selector()\n",
    "        self.tab_calculo = widgets.VBox([])\n",
    "        self.tabs = widgets.Tab()\n",
    "        self.tabs.children = [self.tab_principal, self.tab_calculo]\n",
    "        self.tabs.set_title(0, \"Figuras\")\n",
    "        self.tabs.set_title(1, \"Calcular\")\n",
    "        self.tabs.selected_index = 0\n",
    "\n",
    "    def crear_tab_selector(self):\n",
    "\n",
    "        btn_cilindro = widgets.Button(description=\"Cilindro\")\n",
    "        btn_esfera = widgets.Button(description=\"Esfera\")\n",
    "        btn_piramide = widgets.Button(description=\"Pir\u00e1mide\")\n",
    "        btn_cilindro.on_click(lambda _: self.seleccionar_figura('cilindro'))\n",
    "        btn_esfera.on_click(lambda _: self.seleccionar_figura('esfera'))\n",
    "        btn_piramide.on_click(lambda _: self.seleccionar_figura('piramide'))\n",
    "        botones = widgets.HBox([btn_cilindro, btn_esfera, btn_piramide])\n",
    "        return widgets.VBox([botones])\n",
    "\n",
    "    def seleccionar_figura(self, tipo):\n",
    "        if tipo == 'cilindro':\n",
    "            self.tab_calculo.children = [self.crear_interfaz_cilindro()]\n",
    "            self.tabs.set_title(1, \"Cilindro\")\n",
    "        elif tipo == 'esfera':\n",
    "            self.tab_calculo.children = [self.crear_interfaz_esfera()]\n",
    "            self.tabs.set_title(1, \"Esfera\")\n",
    "        elif tipo == 'piramide':\n",
    "            self.tab_calculo.children = [self.crear_interfaz_piramide()]\n",
    "            self.tabs.set_title(1, \"Pir\u00e1mide\")\n",
    "        self.tabs.selected_index = 1\n",
    "\n",
    "    def crear_interfaz_cilindro(self):\n",
    "        radio = widgets.FloatText(description=\"Radio (cms):\")\n",
    "        altura = widgets.FloatText(description=\"Altura (cms):\")\n",
    "        volumen_output = widgets.HTML()\n",
    "        superficie_output = widgets.HTML()\n",
    "\n",
    "        def calcular(_):\n",
    "            try:\n",
    "                fig = Cilindro(radio.value, altura.value)\n",
    "                volumen_output.value = f\"Volumen (cms\u00b3): {fig.volumen():.2f}\"\n",
    "                superficie_output.value = f\"Superficie (cms\u00b2): {fig.superficie():.2f}\"\n",
    "            except:\n",
    "                volumen_output.value = \"Error en el c\u00e1lculo\"\n",
    "                superficie_output.value = \"Error en el c\u00e1lculo\"\n",
    "\n",
    "        boton_calcular = widgets.Button(description=\"Calcular\")\n",
    "        boton_calcular.on_click(calcular)\n",
    "\n",
    "        return widgets.VBox([radio, altura, widgets.HBox([boton_calcular]), volumen_output, superficie_output])\n",
    "\n",
    "    def crear_interfaz_esfera(self):\n",
    "        radio = widgets.FloatText(description=\"Radio (cms):\")\n",
    "        volumen_output = widgets.HTML()\n",
    "        superficie_output = widgets.HTML()\n",
    "\n",
    "        def calcular(_):\n",
    "            try:\n",
    "                fig = Esfera(radio.value)\n",
    "                volumen_output.value = f\"Volumen (cms\u00b3): {fig.volumen():.2f}\"\n",
    "                superficie_output.value = f\"Superficie (cms\u00b2): {fig.superficie():.2f}\"\n",
    "            except:\n",
    "                volumen_output.value = \"Error en el c\u00e1lculo\"\n",
    "                superficie_output.value = \"Error en el c\u00e1lculo\"\n",
    "\n",
    "        boton_calcular = widgets.Button(description=\"Calcular\")\n",
    "        boton_calcular.on_click(calcular)\n",
    "\n",
    "        return widgets.VBox([radio, widgets.HBox([boton_calcular]), volumen_output, superficie_output])\n",
    "\n",
    "    def crear_interfaz_piramide(self):\n",
    "        base = widgets.FloatText(description=\"Base (cms):\")\n",
    "        altura = widgets.FloatText(description=\"Altura (cms):\")\n",
    "        apotema = widgets.FloatText(description=\"Apotema (cms):\")\n",
    "        volumen_output = widgets.HTML()\n",
    "        superficie_output = widgets.HTML()\n",
    "\n",
    "        def calcular(_):\n",
    "            try:\n",
    "                fig = Piramide(base.value, altura.value, apotema.value)\n",
    "                volumen_output.value = f\"Volumen (cms\u00b3): {fig.volumen():.2f}\"\n",
    "                superficie_output.value = f\"Superficie (cms\u00b2): {fig.superficie():.2f}\"\n",
    "            except:\n",
    "                volumen_output.value = \"Error en el c\u00e1lculo\"\n",
    "                superficie_output.value = \"Error en el c\u00e1lculo\"\n",
    "\n",
    "        boton_calcular = widgets.Button(description=\"Calcular\")\n",
    "        boton_calcular.on_click(calcular)\n",
    "\n",
    "        return widgets.VBox([base, altura, apotema, widgets.HBox([boton_calcular]), volumen_output, superficie_output])\n",
    "\n",
    "    def mostrar(self):\n",
    "        display(self.tabs)\n",
    "\n",
    "calculadora = CalculadoraVolumenes()\n",
    "calculadora.mostrar()"
   ],
   "metadata": {
    "colab": {
     "base_uri": "https://localhost:8080/",
     "height": 111,
     "referenced_widgets": [
      "a535374e56964e5c89fa7d18315a3f47",
      "07f328d0ffa24f45a8235c378b4151d2",
      "bbb2142353f94e8f9964f7925d2ace0c",
      "362f3242d6944d63ba68f3a0ae91ad7b",
      "f84367598e60417eb8fea4db3fe17aa1",
      "e1a2b3bbcc834629934eaa220438f5a6",
      "bba91352385e4965a677b45c2b5a7cfb",
      "f370851554674a289434d528343224e8",
      "0d865c0ac2614d38ac5f53027fc64d56",
      "8ffbaf003be2414ea2fa8b28f4b1e4e9",
      "b0dc7c1eebc44c0cbbd6807666680b19",
      "4d674fc8c8134ef4b2e3bdb885457eec",
      "8e6ee6ca0f22467493792e34b54478df",
      "7211aa2aba6746dfb16fefb5c0de9bb2",
      "ed4c32c99c1740ac9b8b6a5d5bd8b0e5",
      "7be10565aab747ec98c1ff1bcf62ba38",
      "af2e1ac680964e6482e7a7ccc26e5cb7"
     ]
    },
    "id": "pTnU6jiZnC8A",
    "outputId": "cf0db833-247c-43bb-f741-607f8d711f49"
   },
   "execution_count": null,
   "outputs": [
    {
     "output_type": "display_data",
     "data": {
      "text/plain": [
       "Tab(children=(VBox(children=(HBox(children=(Button(description='Cilindro', style=ButtonStyle()), Button(descri\u2026"
      ],
      "application/vnd.jupyter.widget-view+json": {
       "version_major": 2,
       "version_minor": 0,
       "model_id": "a535374e56964e5c89fa7d18315a3f47"
      }
     },
     "metadata": {}
    }
   ]
  }
 ]
}